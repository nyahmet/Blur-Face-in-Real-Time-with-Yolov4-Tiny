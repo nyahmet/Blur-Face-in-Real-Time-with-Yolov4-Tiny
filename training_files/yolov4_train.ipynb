{
  "cells": [
    {
      "cell_type": "code",
      "execution_count": null,
      "metadata": {
        "colab": {
          "base_uri": "https://localhost:8080/"
        },
        "id": "fTfHCAMxAefK",
        "outputId": "66f56abd-577e-4ef9-d00b-6840fb3c3385"
      },
      "outputs": [],
      "source": [
        "#getting yolo darknet repo\n",
        "!git clone https://github.com/AlexeyAB/darknet"
      ]
    },
    {
      "cell_type": "code",
      "execution_count": null,
      "metadata": {
        "colab": {
          "base_uri": "https://localhost:8080/"
        },
        "id": "Jl3mhyNc-KLe",
        "outputId": "b699c553-dd73-4d45-a82c-60ad08a3955c"
      },
      "outputs": [],
      "source": [
        "#mounting drive\n",
        "from google.colab import drive\n",
        "drive.mount('/content/drive')"
      ]
    },
    {
      "cell_type": "code",
      "execution_count": null,
      "metadata": {
        "id": "pf9uCU6NAiM2"
      },
      "outputs": [],
      "source": [
        "#go to darknet dir\n",
        "!cd /content/darknet"
      ]
    },
    {
      "cell_type": "code",
      "execution_count": null,
      "metadata": {
        "colab": {
          "base_uri": "https://localhost:8080/"
        },
        "id": "lLqX3qAUAsRk",
        "outputId": "c490da9a-b0ff-4994-f634-be6ae1241fec"
      },
      "outputs": [],
      "source": [
        "#some adjustments before compiling darknet\n",
        "%cd darknet\n",
        "!sed -i 's/OPENCV=0/OPENCV=1/' /content/darknet/Makefile\n",
        "!sed -i 's/GPU=0/GPU=1/' /content/darknet/Makefile\n",
        "!sed -i 's/CUDNN=0/CUDNN=1/' /content/darknet/Makefile\n",
        "!sed -i 's/CUDNN_HALF=0/CUDNN_HALF=1/' /content/darknet/Makefile\n",
        "!sed -i 's/LIBSO=0/LIBSO=1/' /content/darknet/Makefile\n",
        "!make "
      ]
    },
    {
      "cell_type": "code",
      "execution_count": null,
      "metadata": {
        "colab": {
          "base_uri": "https://localhost:8080/"
        },
        "id": "s7ebyVI9AuGF",
        "outputId": "8616bbf9-501c-4100-8e55-8b27d3edd648"
      },
      "outputs": [],
      "source": [
        "\n",
        "#cleaning up the related folders of repo (because we will put in own data)\n",
        "%cd data/\n",
        "!find -maxdepth 1 -type f -exec rm -rf {} \\;\n",
        "%cd ..\n",
        "%rm -rf cfg/\n",
        "%mkdir cfg"
      ]
    },
    {
      "cell_type": "code",
      "execution_count": null,
      "metadata": {
        "colab": {
          "base_uri": "https://localhost:8080/"
        },
        "id": "rHhQySJ_AyaR",
        "outputId": "1a7293ce-f3d5-4f86-d505-db6624afec8c"
      },
      "outputs": [],
      "source": [
        "\n",
        "#unzip dataset in the data folder (in the darknet)\n",
        "!unzip /content/drive/MyDrive/obj.zip -d data/"
      ]
    },
    {
      "cell_type": "code",
      "execution_count": null,
      "metadata": {
        "id": "8mnkCKuQD24E"
      },
      "outputs": [],
      "source": [
        "#importing config file in darknet\n",
        "\n",
        "!cp /content/drive/MyDrive/yolov4/yolov4_tiny.cfg ./cfg"
      ]
    },
    {
      "cell_type": "code",
      "execution_count": null,
      "metadata": {
        "id": "_IY8M8zJEAzf"
      },
      "outputs": [],
      "source": [
        "#importing files the containing object info in darknet\n",
        "\n",
        "!cp /content/drive/MyDrive/yolov4/obj.names ./data\n",
        "!cp /content/drive/MyDrive/yolov4/obj.data  ./data"
      ]
    },
    {
      "cell_type": "code",
      "execution_count": null,
      "metadata": {
        "id": "tvS-rjlYED2l"
      },
      "outputs": [],
      "source": [
        "#import the script which we use for splitting dataset as test and train\n",
        "!cp /content/drive/MyDrive/yolov4/process.py ../"
      ]
    },
    {
      "cell_type": "code",
      "execution_count": null,
      "metadata": {
        "colab": {
          "base_uri": "https://localhost:8080/"
        },
        "id": "0eq09l4tEPAB",
        "outputId": "353ee6d9-158d-4324-815c-05f42d586775"
      },
      "outputs": [],
      "source": [
        "!ls data/"
      ]
    },
    {
      "cell_type": "code",
      "execution_count": null,
      "metadata": {
        "colab": {
          "base_uri": "https://localhost:8080/"
        },
        "id": "Bvxj52UBEQik",
        "outputId": "4e1a37f4-3764-490f-f8da-7257c7141dd3"
      },
      "outputs": [],
      "source": [
        "#getting tiny-yolov4 from github\n",
        "\n",
        "!wget https://github.com/AlexeyAB/darknet/releases/download/darknet_yolo_v4_pre/yolov4-tiny.conv.29"
      ]
    },
    {
      "cell_type": "code",
      "execution_count": null,
      "metadata": {
        "colab": {
          "base_uri": "https://localhost:8080/"
        },
        "id": "p3jPK4-2ESmx",
        "outputId": "4faa2b88-4ab3-41f1-fac2-8daa946c5a97"
      },
      "outputs": [],
      "source": [
        "#opencv installation before training section\n",
        "\n",
        "!sudo apt install libopencv-dev python3-opencv"
      ]
    },
    {
      "cell_type": "code",
      "execution_count": null,
      "metadata": {
        "colab": {
          "base_uri": "https://localhost:8080/"
        },
        "id": "GHSuE_pzEWgs",
        "outputId": "a95b1250-c1bb-4640-de9c-affca92ef01c"
      },
      "outputs": [],
      "source": [
        "#splitting dataset test and train\n",
        "\n",
        "!python /content/process.py"
      ]
    },
    {
      "cell_type": "code",
      "execution_count": null,
      "metadata": {
        "colab": {
          "base_uri": "https://localhost:8080/"
        },
        "id": "PEHH9223EmFg",
        "outputId": "607dfcf7-20ff-4543-da98-97f81affcdce"
      },
      "outputs": [],
      "source": [
        "#train\n",
        "\n",
        "!./darknet detector train data/obj.data cfg/yolov4_tiny.cfg yolov4-tiny.conv.29 -dont_show -map"
      ]
    },
    {
      "cell_type": "code",
      "execution_count": null,
      "metadata": {
        "id": "xynQRQ8YKE5Q"
      },
      "outputs": [],
      "source": [
        "#end"
      ]
    }
  ],
  "metadata": {
    "accelerator": "GPU",
    "colab": {
      "collapsed_sections": [],
      "name": "yolov4_train.ipynb",
      "provenance": []
    },
    "kernelspec": {
      "display_name": "Python 3",
      "name": "python3"
    },
    "language_info": {
      "name": "python"
    }
  },
  "nbformat": 4,
  "nbformat_minor": 0
}
